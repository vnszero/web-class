{
 "cells": [
  {
   "cell_type": "markdown",
   "id": "63f0cc87",
   "metadata": {},
   "source": [
    "# Exercício 1 - Configuração do Projeto\n",
    "\n",
    "crie o projeto `music_project` e, dentro dele, o app `music`. Para que possa usar este *app* no projeto, entre no settings.py e coloque o `music`na lista de `INSTALLED_APPS`."
   ]
  },
  {
   "cell_type": "markdown",
   "id": "f70b5928",
   "metadata": {},
   "source": [
    "## Instalar Django:\n",
    "executar o seguinte comando no bash:\n",
    "\n",
    "$ pip install django"
   ]
  },
  {
   "cell_type": "markdown",
   "id": "35dee6ea",
   "metadata": {},
   "source": [
    "## Criar projeto:\n",
    "executar o seguinte comando no bash:\n",
    "\n",
    "$ django-admin startproject music_project"
   ]
  },
  {
   "cell_type": "markdown",
   "id": "671f07fe",
   "metadata": {},
   "source": [
    "## Criar App:\n",
    "executar os seguintes comados no bash:\n",
    "\n",
    "$ cd music_project\n",
    "\n",
    "$ django-admin startapp music"
   ]
  },
  {
   "cell_type": "markdown",
   "id": "a08e6cf9",
   "metadata": {},
   "source": [
    "## Inserir music em INSTALLED_APPS\n",
    "Deve existe um arquivo `settings.py` na pasta interna do projeto de mesmo nome: `music_project`. É necessário inserir `music` no vetor `INSTALLED_APPS`. O meu ficou assim:\n",
    "\n",
    "`\n",
    "INSTALLED_APPS = [\n",
    "    \"django.contrib.admin\",\n",
    "    \"django.contrib.auth\",\n",
    "    \"django.contrib.contenttypes\",\n",
    "    \"django.contrib.sessions\",\n",
    "    \"django.contrib.messages\",\n",
    "    \"django.contrib.staticfiles\",\n",
    "    \"music\",\n",
    "]\n",
    "`"
   ]
  },
  {
   "cell_type": "code",
   "execution_count": 1,
   "id": "6b533f80",
   "metadata": {},
   "outputs": [],
   "source": [
    "# Para configurar o Django no Jupyter Notebook\n",
    "# Este arquivo Jupyter Notebook precisa estar dentro da primeira pasta music_project\n",
    "import os\n",
    "import django\n",
    "os.environ.setdefault('DJANGO_SETTINGS_MODULE', 'music_project.settings')\n",
    "os.environ[\"DJANGO_ALLOW_ASYNC_UNSAFE\"] = \"true\"\n",
    "django.setup()"
   ]
  },
  {
   "cell_type": "markdown",
   "id": "82053572",
   "metadata": {},
   "source": [
    "# Exercício 2 - Criação do Modelo e Efetivação das Consultas\n",
    "Você deverá criar, em `models.py` do app `music` um modelo para armazenar bandas, músicos e estilos musicais. Para isso, você deverá criar as classes (herdadas de `model.Model`) *Banda*, *Musico* e *EstiloMusical*. Neste modelo, deverá, para cada classe, armazenar no Banco de Dados o atributo `nome` (i.e. nome da banda, musico e estilo musical)."
   ]
  },
  {
   "cell_type": "markdown",
   "id": "54b0c94d",
   "metadata": {},
   "source": [
    "## Mais 3 atributos\n",
    "Criar mais três atributos para cada um dos models. \n",
    "\n",
    "Foram escolhidos para `Banda` os atributos `cidade_origem:str`, `numero_albuns:int` e `logo:img`. \n",
    "\n",
    "Para `Musico`foram definidos `instrumento_preferido:str`, `data_nascimento:date` e `altura:float`.\n",
    "\n",
    "Por fim, `EstiloMusical`possui os atributos `derivado:bool`, `dancante:bool` e `cultural:bool`."
   ]
  },
  {
   "cell_type": "markdown",
   "id": "59c9ee44",
   "metadata": {},
   "source": [
    "## Relacionamentos entre as classes\n",
    "Tais classes devem ter os seguintes relacionamentos: Para cada banda deve ser armazenado seu estilo musical. Cada músico pode ser de mais de uma banda e bandas possuem mais de um músico.\n",
    "\n",
    "Para garantir esse comportamento foi necessário modificar a classe `Banda` para que ela tivesse uma chave estrangeira de `EstiloMusical` e uma relação `ManyToMany` com a classe `Musico`."
   ]
  },
  {
   "cell_type": "markdown",
   "id": "3d81275f",
   "metadata": {},
   "source": [
    "## Criar Método __str__ para as Classes\n",
    "O método str em cada classe foi pensado para que ele seja legível e útil."
   ]
  },
  {
   "cell_type": "markdown",
   "id": "5d78795f",
   "metadata": {},
   "source": [
    "## Migrations\n",
    "Executar os seguintes comandos no bash:\n",
    "\n",
    "$ python3 manage.py makemigrations\n",
    "\n",
    "$ python3 manage.py migrate\n",
    "\n",
    "Ao executar os dois comandos será possível observar que há um novo arquivo music/migrations/0001_initial.py e na pasta raiz do projeto também há um arquivo db.sqlite3. O primeiro representa o modelo a ser definido no banco e o segundo representa o banco em si."
   ]
  },
  {
   "cell_type": "markdown",
   "id": "3cca6a80",
   "metadata": {},
   "source": [
    "## Explorando o Ambiente\n",
    "O script a seguir também pode ser executado via shell com `python3 manage.py shell`na pasta principal do projeto. Entretanto, para poder formalizar os passos nesse arquivo serão disponibilizados nas células que se seguem. O primeiro passo é popular."
   ]
  },
  {
   "cell_type": "code",
   "execution_count": 2,
   "id": "74dec085",
   "metadata": {},
   "outputs": [],
   "source": [
    "import datetime\n",
    "\n",
    "from music.models import *"
   ]
  },
  {
   "cell_type": "code",
   "execution_count": 3,
   "id": "21344e87",
   "metadata": {},
   "outputs": [],
   "source": [
    "def populate():\n",
    "    # Populando Estilos Musicais\n",
    "    \n",
    "    rock = EstiloMusical.objects.create(nome='Rock', derivado=False, dancante=False, cultural=True)\n",
    "    jazz = EstiloMusical.objects.create(nome='Jazz', derivado=False, dancante=True, cultural=True)\n",
    "    pop = EstiloMusical.objects.create(nome='Pop', derivado=True, dancante=True, cultural=False)\n",
    "    \n",
    "    # Populando Músicos\n",
    "    musico1 = Musico.objects.create(nome='John Doe', instrumento_preferido='Guitarra', data_nascimento=datetime.date(1980, 1, 1), altura=1.75)\n",
    "    musico2 = Musico.objects.create(nome='Jane Smith', instrumento_preferido='Piano', data_nascimento=datetime.date(1990, 5, 15), altura=1.65)\n",
    "    musico3 = Musico.objects.create(nome='Mike Johnson', instrumento_preferido='Bateria', data_nascimento=datetime.date(1985, 7, 20), altura=1.80)\n",
    "    musico4 = Musico.objects.create(nome='Lana Rey', instrumento_preferido='Baixo', data_nascimento=datetime.date(1930, 4, 2), altura=1.66)\n",
    "    musico5 = Musico.objects.create(nome='Olivia Newton', instrumento_preferido='Flauta', data_nascimento=datetime.date(1950, 3, 17), altura=1.69)\n",
    "    musico6 = Musico.objects.create(nome='Vera Lynn', instrumento_preferido='Violino', data_nascimento=datetime.date(1935, 4, 20), altura=1.74)\n",
    "    \n",
    "    # Populando Bandas\n",
    "    banda1 = Banda.objects.create(nome='The Rockers', cidade_origem='New York', numero_albuns=5, estilo_musical=rock)\n",
    "    banda1.musicos.set([musico1, musico3])\n",
    "\n",
    "    banda2 = Banda.objects.create(nome='Jazz Masters', cidade_origem='Chicago', numero_albuns=3, estilo_musical=jazz)\n",
    "    banda2.musicos.set([musico2, musico3])\n",
    "\n",
    "    banda3 = Banda.objects.create(nome='Pop Stars', cidade_origem='Los Angeles', numero_albuns=4, estilo_musical=pop)\n",
    "    banda3.musicos.set([musico1, musico2])\n",
    "\n",
    "    banda4 = Banda.objects.create(nome='Jazzimo', cidade_origem='Los Angeles', numero_albuns=4, estilo_musical=jazz)\n",
    "    banda4.musicos.set([musico2, musico4, musico5])\n",
    "    \n",
    "    banda5 = Banda.objects.create(nome='Space Jazz', cidade_origem='Los Angeles', numero_albuns=4, estilo_musical=jazz)\n",
    "    banda5.musicos.set([musico4, musico5, musico6])\n",
    "    \n",
    "    banda6 = Banda.objects.create(nome='JJV Classics', cidade_origem='New Jersey', numero_albuns=3, estilo_musical=rock)\n",
    "    banda6.musicos.set([musico1, musico2, musico6])\n",
    "    \n",
    "populate()"
   ]
  },
  {
   "cell_type": "code",
   "execution_count": 4,
   "id": "dbb17a31",
   "metadata": {},
   "outputs": [
    {
     "name": "stdout",
     "output_type": "stream",
     "text": [
      "Rock (Derivado: False, Dançante: False, Cultural: True)\n",
      "Jazz (Derivado: False, Dançante: True, Cultural: True)\n",
      "Pop (Derivado: True, Dançante: True, Cultural: False)\n",
      "\n",
      "John Doe (Instrumento: Guitarra, Nascimento: 1980-01-01, Altura: 1.75m, Gênero: O)\n",
      "Jane Smith (Instrumento: Piano, Nascimento: 1990-05-15, Altura: 1.65m, Gênero: O)\n",
      "Mike Johnson (Instrumento: Bateria, Nascimento: 1985-07-20, Altura: 1.80m, Gênero: O)\n",
      "Lana Rey (Instrumento: Baixo, Nascimento: 1930-04-02, Altura: 1.66m, Gênero: O)\n",
      "Olivia Newton (Instrumento: Flauta, Nascimento: 1950-03-17, Altura: 1.69m, Gênero: O)\n",
      "Vera Lynn (Instrumento: Violino, Nascimento: 1935-04-20, Altura: 1.74m, Gênero: O)\n",
      "\n",
      "The Rockers (Origem: New York, Álbuns: 5)\n",
      "Jazz Masters (Origem: Chicago, Álbuns: 3)\n",
      "Pop Stars (Origem: Los Angeles, Álbuns: 4)\n",
      "Jazzimo (Origem: Los Angeles, Álbuns: 4)\n",
      "Space Jazz (Origem: Los Angeles, Álbuns: 4)\n",
      "JJV Classics (Origem: New Jersey, Álbuns: 3)\n",
      "\n",
      "John Doe (Instrumento: Guitarra, Nascimento: 1980-01-01, Altura: 1.75m, Gênero: O)\n",
      "Mike Johnson (Instrumento: Bateria, Nascimento: 1985-07-20, Altura: 1.80m, Gênero: O)\n"
     ]
    }
   ],
   "source": [
    "# visão geral sobre os objetos para ver se está tudo conforme esperado\n",
    "\n",
    "# validando grupos de forma geral\n",
    "for estilo_musical in EstiloMusical.objects.all():\n",
    "    print(estilo_musical)\n",
    "print()\n",
    "for musico in Musico.objects.all():\n",
    "    print(musico)\n",
    "print()\n",
    "for banda in Banda.objects.all():\n",
    "    print(banda)\n",
    "print()\n",
    "# validando relações\n",
    "for musico_da_banda in Banda.objects.all()[0].musicos.all():\n",
    "    print(musico_da_banda)"
   ]
  },
  {
   "cell_type": "code",
   "execution_count": 5,
   "id": "9acec22c",
   "metadata": {},
   "outputs": [
    {
     "name": "stdout",
     "output_type": "stream",
     "text": [
      "Dados de Jane Smith atualizado com sucesso!!!\n",
      "Dados de Mike Johnson atualizado com sucesso!!!\n",
      "Nao foi possivel encontrar o Musico Michael Jackson!\n",
      "\n",
      "John Doe (Instrumento: Guitarra, Nascimento: 1980-01-01, Altura: 1.75m, Gênero: O)\n",
      "Jane Smith (Instrumento: Sanfona, Nascimento: 1980-03-09, Altura: 1.73m, Gênero: O)\n",
      "Mike Johnson (Instrumento: Bateria, Nascimento: 1985-07-20, Altura: 1.91m, Gênero: O)\n",
      "Lana Rey (Instrumento: Baixo, Nascimento: 1930-04-02, Altura: 1.66m, Gênero: O)\n",
      "Olivia Newton (Instrumento: Flauta, Nascimento: 1950-03-17, Altura: 1.69m, Gênero: O)\n",
      "Vera Lynn (Instrumento: Violino, Nascimento: 1935-04-20, Altura: 1.74m, Gênero: O)\n"
     ]
    }
   ],
   "source": [
    "# atualizando registros\n",
    "def buscar_musico_por_nome_e_atualizar(nome:str, instrumento_preferido:str, data_nascimento:str, altura:float) -> None:\n",
    "    resultado = Musico.objects.filter(nome=nome).update(\n",
    "        instrumento_preferido=instrumento_preferido,\n",
    "        data_nascimento=data_nascimento,\n",
    "        altura=altura\n",
    "    )\n",
    "\n",
    "    if resultado:\n",
    "        print(f\"Dados de {nome} atualizado com sucesso!!!\")\n",
    "    else:\n",
    "        print(f\"Nao foi possivel encontrar o Musico {nome}!\")\n",
    "\n",
    "buscar_musico_por_nome_e_atualizar('Jane Smith', 'Sanfona', '1980-03-09', 1.73)\n",
    "buscar_musico_por_nome_e_atualizar('Mike Johnson', 'Bateria', '1985-07-20', 1.91)\n",
    "buscar_musico_por_nome_e_atualizar('Michael Jackson', 'Guitarra', '1958-03-09', 1.70)\n",
    "\n",
    "print()\n",
    "for musico in Musico.objects.all():\n",
    "    print(musico)"
   ]
  },
  {
   "cell_type": "code",
   "execution_count": 6,
   "id": "34941915",
   "metadata": {},
   "outputs": [
    {
     "name": "stdout",
     "output_type": "stream",
     "text": [
      "Existem bandas que utilizam o estilo musical: Pop\n",
      "- Pop Stars\n",
      "Você realmente quer deletar o estilo musical Pop? e suas bandas associadas? (s/n): s\n",
      "Estilo musical Pop e todas as bandas associadas foram deletadas com sucesso!!!\n",
      "\n",
      "Veja que o efeito cascata funciona!!!\n",
      "\n",
      "Rock (Derivado: False, Dançante: False, Cultural: True)\n",
      "Jazz (Derivado: False, Dançante: True, Cultural: True)\n",
      "\n",
      "The Rockers (Origem: New York, Álbuns: 5)\n",
      "Jazz Masters (Origem: Chicago, Álbuns: 3)\n",
      "Jazzimo (Origem: Los Angeles, Álbuns: 4)\n",
      "Space Jazz (Origem: Los Angeles, Álbuns: 4)\n",
      "JJV Classics (Origem: New Jersey, Álbuns: 3)\n"
     ]
    }
   ],
   "source": [
    "# deletando registros\n",
    "def delete_estilo_por_nome(nome:str):\n",
    "    try:\n",
    "        estilo = EstiloMusical.objects.get(nome=nome)\n",
    "        bandas_desse_estilo = Banda.objects.filter(estilo_musical = estilo)\n",
    "        \n",
    "        if bandas_desse_estilo.exists():\n",
    "            print(f\"Existem bandas que utilizam o estilo musical: {nome}\")\n",
    "            for banda in bandas_desse_estilo:\n",
    "                print(f\"- {banda.nome}\")\n",
    "                \n",
    "            confirmacao = input(f\"Você realmente quer deletar o estilo musical {nome}? e suas bandas associadas? (s/n): \")\n",
    "            if confirmacao.lower() == 's':\n",
    "                estilo.delete()\n",
    "                print(f\"Estilo musical {nome} e todas as bandas associadas foram deletadas com sucesso!!!\")\n",
    "            else:\n",
    "                print(\"Operação cancelada.\")\n",
    "        else:\n",
    "            estilo.delete()\n",
    "            print(f\"Estilo musical {nome} deletado com sucesso!!\")\n",
    "    except EstiloMusical.DoesNotExist:\n",
    "        print(f\"Estilo musical {nome} não encontrado.\")\n",
    "        \n",
    "delete_estilo_por_nome('Pop')\n",
    "\n",
    "print(\"\\nVeja que o efeito cascata funciona!!!\\n\")\n",
    "for estilo_musical in EstiloMusical.objects.all():\n",
    "    print(estilo_musical)\n",
    "print()\n",
    "for banda in Banda.objects.all():\n",
    "    print(banda)"
   ]
  },
  {
   "cell_type": "code",
   "execution_count": 7,
   "id": "436f47be",
   "metadata": {},
   "outputs": [
    {
     "name": "stdout",
     "output_type": "stream",
     "text": [
      "Existem bandas que utilizam o estilo musical: Rock\n",
      "- The Rockers e ela é compostas pelos artistas:\n",
      "\t> John Doe\n",
      "\t> Mike Johnson\n",
      "- JJV Classics e ela é compostas pelos artistas:\n",
      "\t> John Doe\n",
      "\t> Jane Smith\n",
      "\t> Vera Lynn\n"
     ]
    }
   ],
   "source": [
    "# exibir todas as bandas de um determinado estilo musical, sendo o estilo passado por parâmetro\n",
    "def exibir_bandas_do_estilo(nome:str) -> None:\n",
    "    estilo = EstiloMusical.objects.get(nome=nome)\n",
    "    bandas_desse_estilo = Banda.objects.filter(estilo_musical = estilo)\n",
    "        \n",
    "    if bandas_desse_estilo.exists():\n",
    "        print(f\"Existem bandas que utilizam o estilo musical: {nome}\")\n",
    "        for banda in bandas_desse_estilo:\n",
    "            print(f\"- {banda.nome} e ela é compostas pelos artistas:\")\n",
    "            musicos_da_banda = banda.musicos.all()\n",
    "            for musico in musicos_da_banda:\n",
    "                print(f\"\\t> {musico.nome}\")\n",
    "    else:\n",
    "        print(f\"Nao existem bandas desse estilo.\")\n",
    "\n",
    "exibir_bandas_do_estilo('Rock')"
   ]
  },
  {
   "cell_type": "markdown",
   "id": "85e3d9ef",
   "metadata": {},
   "source": [
    "## Criar atributo gênero para o músico\n",
    "O plano é modificar o modelo e rodar os comandos de migração novamente. Nesse caso, o Django já deve tratar para que as modificações não apaguem resgistros antigos. Na sequência, podemos atualizar os registros dos músicos e trabalhar com atualizações e buscas sobre esse atributo."
   ]
  },
  {
   "cell_type": "markdown",
   "id": "ad1a6dc8",
   "metadata": {},
   "source": [
    "Ao rodar o comando `python3 manage.py makemigrations` deve ser gerado um novo arquivo em `music/migrations` no meu caso será `0002_musico_genero.py`, nesse arquivo ocorre a inclusão da coluna referente ao campo `genero` que será adicionado. Na sequêcia a execução do comando `python3 manage.py migrate` deve inserir a nova coluna na tabela `musico`."
   ]
  },
  {
   "cell_type": "code",
   "execution_count": 8,
   "id": "7529553c",
   "metadata": {},
   "outputs": [
    {
     "name": "stdout",
     "output_type": "stream",
     "text": [
      "id\n",
      "nome\n",
      "instrumento_preferido\n",
      "data_nascimento\n",
      "altura\n",
      "genero\n",
      "\n",
      "Dados de Jane Smith atualizado com sucesso!!!\n",
      "Dados de Mike Johnson atualizado com sucesso!!!\n",
      "Dados de John Doe atualizado com sucesso!!!\n",
      "Nao foi possivel encontrar o Musico Michael Jackson!\n",
      "Dados de Lana Rey atualizado com sucesso!!!\n",
      "Dados de Olivia Newton atualizado com sucesso!!!\n",
      "Dados de Vera Lynn atualizado com sucesso!!!\n",
      "\n",
      "John Doe (Instrumento: Guitarra, Nascimento: 1980-01-01, Altura: 1.75m, Gênero: M)\n",
      "Jane Smith (Instrumento: Sanfona, Nascimento: 1980-03-09, Altura: 1.73m, Gênero: F)\n",
      "Mike Johnson (Instrumento: Bateria, Nascimento: 1985-07-20, Altura: 1.91m, Gênero: M)\n",
      "Lana Rey (Instrumento: Baixo, Nascimento: 1930-04-02, Altura: 1.66m, Gênero: F)\n",
      "Olivia Newton (Instrumento: Flauta, Nascimento: 1950-03-17, Altura: 1.69m, Gênero: F)\n",
      "Vera Lynn (Instrumento: Violino, Nascimento: 1935-04-20, Altura: 1.74m, Gênero: F)\n"
     ]
    }
   ],
   "source": [
    "# refatorar o procedimento de atualizar músicos\n",
    "# no meu caso, foi necessario reiniciar o kernel do Jupyter para que ele conseguisse reconhecer a nova coluna\n",
    "\n",
    "for field in Musico._meta.fields:\n",
    "    print(field.name)\n",
    "print()\n",
    "\n",
    "def buscar_musico_por_nome_e_atualizar(nome:str, instrumento_preferido:str, data_nascimento:str, altura:float, genero:str) -> None:\n",
    "    resultado = Musico.objects.filter(nome=nome).update(\n",
    "        instrumento_preferido=instrumento_preferido,\n",
    "        data_nascimento=data_nascimento,\n",
    "        altura=altura,\n",
    "        genero=genero\n",
    "    )\n",
    "\n",
    "    if resultado:\n",
    "        print(f\"Dados de {nome} atualizado com sucesso!!!\")\n",
    "    else:\n",
    "        print(f\"Nao foi possivel encontrar o Musico {nome}!\")\n",
    "\n",
    "buscar_musico_por_nome_e_atualizar('Jane Smith', 'Sanfona', '1980-03-09', 1.73, 'F')\n",
    "buscar_musico_por_nome_e_atualizar('Mike Johnson', 'Bateria', '1985-07-20', 1.91, 'M')\n",
    "buscar_musico_por_nome_e_atualizar('John Doe', 'Guitarra', '1980-1-1', 1.75, 'M')\n",
    "buscar_musico_por_nome_e_atualizar('Michael Jackson', 'Guitarra', '1958-03-09', 1.70, 'M')\n",
    "buscar_musico_por_nome_e_atualizar('Lana Rey', 'Baixo', '1930-4-2', 1.66, 'F')\n",
    "buscar_musico_por_nome_e_atualizar('Olivia Newton', 'Flauta', '1950-3-17', 1.69, 'F')\n",
    "buscar_musico_por_nome_e_atualizar('Vera Lynn', 'Violino', '1935-4-20', 1.74, 'F')\n",
    "\n",
    "print()\n",
    "for musico in Musico.objects.all():\n",
    "    print(musico)"
   ]
  },
  {
   "cell_type": "code",
   "execution_count": 9,
   "id": "1fabaa57",
   "metadata": {},
   "outputs": [
    {
     "name": "stdout",
     "output_type": "stream",
     "text": [
      "The Rockers (Origem: New York, Álbuns: 5)\n",
      "Jazz Masters (Origem: Chicago, Álbuns: 3)\n",
      "Jazzimo (Origem: Los Angeles, Álbuns: 4)\n",
      "Space Jazz (Origem: Los Angeles, Álbuns: 4)\n",
      "JJV Classics (Origem: New Jersey, Álbuns: 3)\n"
     ]
    }
   ],
   "source": [
    "for banda in Banda.objects.all():\n",
    "    print(banda)"
   ]
  },
  {
   "cell_type": "code",
   "execution_count": 10,
   "id": "3d637348",
   "metadata": {
    "scrolled": true
   },
   "outputs": [
    {
     "name": "stdout",
     "output_type": "stream",
     "text": [
      "Jazzimo eh completamente composta por artistas do gênero Feminino.\n"
     ]
    }
   ],
   "source": [
    "# identificar as bandas que sao 100% femininas\n",
    "def busca_bandas_por_genero(genero:str, limite_busca:int) -> None:\n",
    "    bandas = Banda.objects.all()\n",
    "    contar = 0\n",
    "    for banda in bandas:\n",
    "        \n",
    "        if contar == limite_busca:\n",
    "            break\n",
    "            \n",
    "        condition = True\n",
    "        \n",
    "        for musico in banda.musicos.all():\n",
    "            if musico.genero != genero:\n",
    "                condition = False\n",
    "                break\n",
    "                \n",
    "        if condition:\n",
    "            contar += 1\n",
    "            if genero == 'M':\n",
    "                print(f\"{banda.nome} eh completamente composta por artistas do gênero Masculino.\")\n",
    "            else:\n",
    "                print(f\"{banda.nome} eh completamente composta por artistas do gênero Feminino.\")\n",
    "                \n",
    "busca_bandas_por_genero('F', 1)"
   ]
  },
  {
   "cell_type": "code",
   "execution_count": 11,
   "id": "8c9b97c0",
   "metadata": {},
   "outputs": [
    {
     "name": "stdout",
     "output_type": "stream",
     "text": [
      "Rock: 3\n",
      "Jazz: 3\n",
      "\n"
     ]
    }
   ],
   "source": [
    "# contabilizar musicos por estilo musical\n",
    "def contar_musicos_por_estilo() -> str:\n",
    "    estilo_musicos = {}\n",
    "    bandas = Banda.objects.all()\n",
    "    for banda in bandas:\n",
    "        estilo_musicos[banda.estilo_musical.nome] = len(banda.musicos.all())\n",
    "    \n",
    "    out = \"\"\n",
    "    for estilo in estilo_musicos.keys():\n",
    "        out += f\"{estilo}: {estilo_musicos[estilo]}\" + '\\n'\n",
    "    \n",
    "    return out\n",
    "\n",
    "print(contar_musicos_por_estilo())"
   ]
  },
  {
   "cell_type": "code",
   "execution_count": 12,
   "id": "ded71e12",
   "metadata": {},
   "outputs": [
    {
     "name": "stdout",
     "output_type": "stream",
     "text": [
      "Jazz Masters tem 2 Musicos e pelo menos 1 eh mulher\n",
      "Jazzimo tem 3 Musicos e pelo menos 1 eh mulher\n",
      "Space Jazz tem 3 Musicos e pelo menos 1 eh mulher\n",
      "JJV Classics tem 3 Musicos e pelo menos 1 eh mulher\n"
     ]
    }
   ],
   "source": [
    "# contabilizar musicos por bandas com pelo menos uma mulher\n",
    "def contar_musicos_por_bandas_com_pelo_menos_uma_mulher() -> None:\n",
    "    bandas = Banda.objects.all()\n",
    "    for banda in bandas:\n",
    "        musicos = len(banda.musicos.all())\n",
    "        condicao = False\n",
    "        for musico in banda.musicos.all():\n",
    "            if musico.genero == 'F':\n",
    "                condicao = True\n",
    "                break\n",
    "        \n",
    "        if condicao:\n",
    "            print(f\"{banda.nome} tem {musicos} Musicos e pelo menos 1 eh mulher\")\n",
    "            \n",
    "contar_musicos_por_bandas_com_pelo_menos_uma_mulher()"
   ]
  },
  {
   "cell_type": "code",
   "execution_count": 13,
   "id": "73dbe12c",
   "metadata": {},
   "outputs": [
    {
     "name": "stdout",
     "output_type": "stream",
     "text": [
      "Jazzimo eh completamente composta por artistas do gênero Feminino.\n",
      "Space Jazz eh completamente composta por artistas do gênero Feminino.\n"
     ]
    }
   ],
   "source": [
    "# apresente as bandas na qual todas as musicistas sao mulheres\n",
    "\n",
    "# ao passar o parametro -1, nao ha limite\n",
    "busca_bandas_por_genero('F', -1)"
   ]
  }
 ],
 "metadata": {
  "kernelspec": {
   "display_name": "Python 3 (ipykernel)",
   "language": "python",
   "name": "python3"
  },
  "language_info": {
   "codemirror_mode": {
    "name": "ipython",
    "version": 3
   },
   "file_extension": ".py",
   "mimetype": "text/x-python",
   "name": "python",
   "nbconvert_exporter": "python",
   "pygments_lexer": "ipython3",
   "version": "3.11.5"
  }
 },
 "nbformat": 4,
 "nbformat_minor": 5
}
