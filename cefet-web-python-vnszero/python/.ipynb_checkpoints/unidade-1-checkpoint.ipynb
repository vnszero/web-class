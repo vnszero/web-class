{
 "cells": [
  {
   "cell_type": "markdown",
   "metadata": {},
   "source": [
    "# Tipos de Dados, Variáveis e Funções"
   ]
  },
  {
   "cell_type": "markdown",
   "metadata": {},
   "source": [
    "### Aquecimento\n",
    "Aqui temos um exemplos de como imprimir dados em Python, caso precise estudar mais, consulte esses [slides](https://daniel-hasan.github.io/cefet-web-grad/classes/python1/#13).\n",
    "\n",
    "PS: Lembre-se de sempre rodar a função antes e trocar os *null*"
   ]
  },
  {
   "cell_type": "code",
   "execution_count": 1,
   "metadata": {},
   "outputs": [
    {
     "name": "stdout",
     "output_type": "stream",
     "text": [
      "10\n"
     ]
    },
    {
     "data": {
      "text/plain": [
       "'Resultado: 10'"
      ]
     },
     "execution_count": 1,
     "metadata": {},
     "output_type": "execute_result"
    }
   ],
   "source": [
    "x = 10\n",
    "print(x)\n",
    "\n",
    "str1 = f\"Resultado: {x}\"\n",
    "str1"
   ]
  },
  {
   "cell_type": "markdown",
   "metadata": {},
   "source": [
    "##### Exercício 0.1\n",
    "Imprima as seguintes variáveis:"
   ]
  },
  {
   "cell_type": "code",
   "execution_count": 3,
   "metadata": {},
   "outputs": [
    {
     "data": {
      "text/plain": [
       "'Olá, 10, 5'"
      ]
     },
     "execution_count": 3,
     "metadata": {},
     "output_type": "execute_result"
    }
   ],
   "source": [
    "a = 10\n",
    "b = 5\n",
    "texto = \"Olá\"\n",
    "texto += \", \" + str(a) + \", \" + str(b)\n",
    "texto"
   ]
  },
  {
   "cell_type": "markdown",
   "metadata": {},
   "source": [
    "##### Exercício 0.2\n",
    "Crie uma função *soma* que receba dois números de parâmetro e utilize *return* para mostrar seu resultado\n",
    "\n",
    "PS: Lembre-se de sempre rodar a função antes e trocar os *null*"
   ]
  },
  {
   "cell_type": "code",
   "execution_count": null,
   "metadata": {},
   "outputs": [],
   "source": [
    "def soma(a, b):\n",
    "    return null"
   ]
  },
  {
   "cell_type": "code",
   "execution_count": null,
   "metadata": {},
   "outputs": [],
   "source": [
    "#testes\n",
    "soma(1, 4)\n",
    "soma(2, 3)"
   ]
  },
  {
   "cell_type": "markdown",
   "metadata": {},
   "source": [
    "##### Exercício 0.3\n",
    "Implemente uma função chamada *calculos* que recebe como parâmetro um número qualquer e retorne: I - quadrado do número, II - sua metade e III - sua raíz quadrada. Confira com os testes já criados.\n",
    "\n",
    "PS: Lembre-se de sempre rodar a função antes e trocar os *null*"
   ]
  },
  {
   "cell_type": "code",
   "execution_count": null,
   "metadata": {},
   "outputs": [],
   "source": [
    "#implemente sua função aqui!"
   ]
  },
  {
   "cell_type": "code",
   "execution_count": null,
   "metadata": {},
   "outputs": [],
   "source": [
    "#testes\n",
    "funcao1 = calculos(2)\n",
    "funcao2 = calculos(10)"
   ]
  },
  {
   "cell_type": "markdown",
   "metadata": {},
   "source": [
    "### Exercício 1: Altura da Bola no instante *t*\n",
    "Imagine que uma bola é jogada para o alto e devemos calcular a altura em metros h desta bola num tempo t. Considere que a seguinte equação *h = vt - (gt²/2)*, onde _v_ é a velocidade inicial e g a gravidade.\n",
    "\n",
    "Essa função recebe como paramêtro o tempo t, a gravidade g e a velocidade inicial v, utilize *return* para retornar a altura. Confira a sua função e imprima os testes.\n",
    "\n",
    "PS: Lembre-se de sempre rodar a função antes e trocar os `None`"
   ]
  },
  {
   "cell_type": "code",
   "execution_count": 17,
   "metadata": {},
   "outputs": [],
   "source": [
    "def altura_bola(tempo, gravidade, velocidadeInicial):\n",
    "    altura = None\n",
    "    \n",
    "    return None"
   ]
  },
  {
   "cell_type": "code",
   "execution_count": null,
   "metadata": {},
   "outputs": [],
   "source": [
    "#testes\n",
    "bolaA1 = altura_bola(1, 9.81, 50)\n",
    "print(f\"Altura 1: {bolaA1}\")\n",
    "bolaA2 = (altura_bola(5, 9.81, 50)\n",
    "bolaA3 = (altura_bola(10, 9.81, 50)"
   ]
  },
  {
   "cell_type": "markdown",
   "metadata": {},
   "source": [
    "### Exercício 2: Velocidade da Bola no instante *t*\n",
    "Podemos complementar o exercício anterior com mais uma informação sobre o lançamento: a velocidade V da bola no instante t, seguindo a equação *V(t) = v-gt*.\n",
    "\n",
    "Essa função recebe como paramêtro o tempo t, a gravidade g e a velocidade inicial v, utilize *return* para retornar a altura. Confira a sua função e imprima os testes.\n",
    "\n",
    "Sempre lembre das regras de legibilidade, por exemplo, chame a variavel de *gravidade* e não _g_!\n"
   ]
  },
  {
   "cell_type": "code",
   "execution_count": null,
   "metadata": {},
   "outputs": [],
   "source": [
    "#implemente sua função aqui!"
   ]
  },
  {
   "cell_type": "code",
   "execution_count": null,
   "metadata": {},
   "outputs": [],
   "source": [
    "#testes\n",
    "bolaV1 = velocidade_bola(1, 9.81, 50)\n",
    "bolaV2 = velocidade_bola(5, 9.81, 50)\n",
    "bolaV3 = velocidade_bola(10, 9.81, 50)"
   ]
  }
 ],
 "metadata": {
  "kernelspec": {
   "display_name": "Python 3 (ipykernel)",
   "language": "python",
   "name": "python3"
  },
  "language_info": {
   "codemirror_mode": {
    "name": "ipython",
    "version": 3
   },
   "file_extension": ".py",
   "mimetype": "text/x-python",
   "name": "python",
   "nbconvert_exporter": "python",
   "pygments_lexer": "ipython3",
   "version": "3.11.5"
  }
 },
 "nbformat": 4,
 "nbformat_minor": 2
}
